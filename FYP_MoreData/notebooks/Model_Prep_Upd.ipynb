{
 "cells": [
  {
   "cell_type": "code",
   "execution_count": null,
   "metadata": {},
   "outputs": [
    {
     "name": "stdout",
     "output_type": "stream",
     "text": [
      "Found 226 images belonging to 2 classes.\n",
      "Found 48 images belonging to 2 classes.\n",
      "Found 50 images belonging to 2 classes.\n"
     ]
    },
    {
     "name": "stderr",
     "output_type": "stream",
     "text": [
      "C:\\Users\\MANJU\\AppData\\Roaming\\Python\\Python311\\site-packages\\keras\\src\\trainers\\data_adapters\\py_dataset_adapter.py:121: UserWarning: Your `PyDataset` class should call `super().__init__(**kwargs)` in its constructor. `**kwargs` can include `workers`, `use_multiprocessing`, `max_queue_size`. Do not pass these arguments to `fit()`, as they will be ignored.\n",
      "  self._warn_if_super_not_called()\n"
     ]
    },
    {
     "name": "stdout",
     "output_type": "stream",
     "text": [
      "Epoch 1/20\n",
      "\u001b[1m4/4\u001b[0m \u001b[32m━━━━━━━━━━━━━━━━━━━━\u001b[0m\u001b[37m\u001b[0m \u001b[1m0s\u001b[0m 2s/step - accuracy: 0.6276 - auc: 0.5994 - loss: 0.7237 - precision: 0.3122 - recall: 0.4818\n",
      "Epoch 1: val_accuracy improved from -inf to 0.56250, saving model to best_mobilenetv2_model.h5\n"
     ]
    },
    {
     "name": "stderr",
     "output_type": "stream",
     "text": [
      "WARNING:absl:You are saving your model as an HDF5 file via `model.save()` or `keras.saving.save_model(model)`. This file format is considered legacy. We recommend using instead the native Keras format, e.g. `model.save('my_model.keras')` or `keras.saving.save_model(model, 'my_model.keras')`. \n"
     ]
    },
    {
     "name": "stdout",
     "output_type": "stream",
     "text": [
      "\u001b[1m4/4\u001b[0m \u001b[32m━━━━━━━━━━━━━━━━━━━━\u001b[0m\u001b[37m\u001b[0m \u001b[1m22s\u001b[0m 4s/step - accuracy: 0.6242 - auc: 0.5962 - loss: 0.7296 - precision: 0.3077 - recall: 0.4640 - val_accuracy: 0.5625 - val_auc: 0.6539 - val_loss: 0.6641 - val_precision: 0.3043 - val_recall: 0.5833 - learning_rate: 3.0000e-04\n",
      "Epoch 2/20\n",
      "\u001b[1m4/4\u001b[0m \u001b[32m━━━━━━━━━━━━━━━━━━━━\u001b[0m\u001b[37m\u001b[0m \u001b[1m0s\u001b[0m 2s/step - accuracy: 0.6075 - auc: 0.6028 - loss: 0.7099 - precision: 0.3028 - recall: 0.5323\n",
      "Epoch 2: val_accuracy did not improve from 0.56250\n",
      "\u001b[1m4/4\u001b[0m \u001b[32m━━━━━━━━━━━━━━━━━━━━\u001b[0m\u001b[37m\u001b[0m \u001b[1m8s\u001b[0m 2s/step - accuracy: 0.6063 - auc: 0.6034 - loss: 0.7122 - precision: 0.3068 - recall: 0.5366 - val_accuracy: 0.5000 - val_auc: 0.7465 - val_loss: 0.7003 - val_precision: 0.3000 - val_recall: 0.7500 - learning_rate: 3.0000e-04\n",
      "Epoch 3/20\n",
      "\u001b[1m4/4\u001b[0m \u001b[32m━━━━━━━━━━━━━━━━━━━━\u001b[0m\u001b[37m\u001b[0m \u001b[1m0s\u001b[0m 2s/step - accuracy: 0.5924 - auc: 0.6592 - loss: 0.6911 - precision: 0.3484 - recall: 0.6680\n",
      "Epoch 3: val_accuracy did not improve from 0.56250\n",
      "\u001b[1m4/4\u001b[0m \u001b[32m━━━━━━━━━━━━━━━━━━━━\u001b[0m\u001b[37m\u001b[0m \u001b[1m8s\u001b[0m 2s/step - accuracy: 0.5943 - auc: 0.6678 - loss: 0.6816 - precision: 0.3489 - recall: 0.6772 - val_accuracy: 0.5208 - val_auc: 0.7847 - val_loss: 0.6642 - val_precision: 0.3226 - val_recall: 0.8333 - learning_rate: 3.0000e-04\n",
      "Epoch 4/20\n",
      "\u001b[1m4/4\u001b[0m \u001b[32m━━━━━━━━━━━━━━━━━━━━\u001b[0m\u001b[37m\u001b[0m \u001b[1m0s\u001b[0m 2s/step - accuracy: 0.7149 - auc: 0.8225 - loss: 0.5333 - precision: 0.4801 - recall: 0.6853\n",
      "Epoch 4: val_accuracy improved from 0.56250 to 0.62500, saving model to best_mobilenetv2_model.h5\n"
     ]
    },
    {
     "name": "stderr",
     "output_type": "stream",
     "text": [
      "WARNING:absl:You are saving your model as an HDF5 file via `model.save()` or `keras.saving.save_model(model)`. This file format is considered legacy. We recommend using instead the native Keras format, e.g. `model.save('my_model.keras')` or `keras.saving.save_model(model, 'my_model.keras')`. \n"
     ]
    },
    {
     "name": "stdout",
     "output_type": "stream",
     "text": [
      "\u001b[1m4/4\u001b[0m \u001b[32m━━━━━━━━━━━━━━━━━━━━\u001b[0m\u001b[37m\u001b[0m \u001b[1m9s\u001b[0m 3s/step - accuracy: 0.7224 - auc: 0.8236 - loss: 0.5294 - precision: 0.4841 - recall: 0.6839 - val_accuracy: 0.6250 - val_auc: 0.8137 - val_loss: 0.5800 - val_precision: 0.3750 - val_recall: 0.7500 - learning_rate: 3.0000e-04\n",
      "Epoch 5/20\n",
      "\u001b[1m4/4\u001b[0m \u001b[32m━━━━━━━━━━━━━━━━━━━━\u001b[0m\u001b[37m\u001b[0m \u001b[1m0s\u001b[0m 2s/step - accuracy: 0.7725 - auc: 0.8395 - loss: 0.4975 - precision: 0.5324 - recall: 0.7894\n",
      "Epoch 5: val_accuracy improved from 0.62500 to 0.68750, saving model to best_mobilenetv2_model.h5\n"
     ]
    },
    {
     "name": "stderr",
     "output_type": "stream",
     "text": [
      "WARNING:absl:You are saving your model as an HDF5 file via `model.save()` or `keras.saving.save_model(model)`. This file format is considered legacy. We recommend using instead the native Keras format, e.g. `model.save('my_model.keras')` or `keras.saving.save_model(model, 'my_model.keras')`. \n"
     ]
    },
    {
     "name": "stdout",
     "output_type": "stream",
     "text": [
      "\u001b[1m4/4\u001b[0m \u001b[32m━━━━━━━━━━━━━━━━━━━━\u001b[0m\u001b[37m\u001b[0m \u001b[1m9s\u001b[0m 3s/step - accuracy: 0.7693 - auc: 0.8386 - loss: 0.4982 - precision: 0.5272 - recall: 0.7708 - val_accuracy: 0.6875 - val_auc: 0.8356 - val_loss: 0.5488 - val_precision: 0.4286 - val_recall: 0.7500 - learning_rate: 3.0000e-04\n",
      "Epoch 6/20\n",
      "\u001b[1m4/4\u001b[0m \u001b[32m━━━━━━━━━━━━━━━━━━━━\u001b[0m\u001b[37m\u001b[0m \u001b[1m0s\u001b[0m 2s/step - accuracy: 0.7761 - auc: 0.8342 - loss: 0.5095 - precision: 0.5467 - recall: 0.7696\n",
      "Epoch 6: val_accuracy did not improve from 0.68750\n",
      "\u001b[1m4/4\u001b[0m \u001b[32m━━━━━━━━━━━━━━━━━━━━\u001b[0m\u001b[37m\u001b[0m \u001b[1m8s\u001b[0m 2s/step - accuracy: 0.7766 - auc: 0.8341 - loss: 0.5092 - precision: 0.5449 - recall: 0.7693 - val_accuracy: 0.6458 - val_auc: 0.8484 - val_loss: 0.5697 - val_precision: 0.3913 - val_recall: 0.7500 - learning_rate: 3.0000e-04\n",
      "Epoch 7/20\n",
      "\u001b[1m4/4\u001b[0m \u001b[32m━━━━━━━━━━━━━━━━━━━━\u001b[0m\u001b[37m\u001b[0m \u001b[1m0s\u001b[0m 2s/step - accuracy: 0.7903 - auc: 0.8646 - loss: 0.4557 - precision: 0.5450 - recall: 0.7824\n",
      "Epoch 7: val_accuracy did not improve from 0.68750\n",
      "\u001b[1m4/4\u001b[0m \u001b[32m━━━━━━━━━━━━━━━━━━━━\u001b[0m\u001b[37m\u001b[0m \u001b[1m10s\u001b[0m 2s/step - accuracy: 0.7854 - auc: 0.8615 - loss: 0.4597 - precision: 0.5398 - recall: 0.7723 - val_accuracy: 0.6458 - val_auc: 0.8553 - val_loss: 0.6292 - val_precision: 0.4138 - val_recall: 1.0000 - learning_rate: 3.0000e-04\n",
      "Epoch 8/20\n",
      "\u001b[1m4/4\u001b[0m \u001b[32m━━━━━━━━━━━━━━━━━━━━\u001b[0m\u001b[37m\u001b[0m \u001b[1m0s\u001b[0m 2s/step - accuracy: 0.7585 - auc: 0.8784 - loss: 0.4467 - precision: 0.5340 - recall: 0.9123\n",
      "Epoch 8: val_accuracy did not improve from 0.68750\n",
      "\n",
      "Epoch 8: ReduceLROnPlateau reducing learning rate to 0.0001500000071246177.\n",
      "\u001b[1m4/4\u001b[0m \u001b[32m━━━━━━━━━━━━━━━━━━━━\u001b[0m\u001b[37m\u001b[0m \u001b[1m9s\u001b[0m 2s/step - accuracy: 0.7554 - auc: 0.8719 - loss: 0.4562 - precision: 0.5252 - recall: 0.8977 - val_accuracy: 0.6667 - val_auc: 0.8634 - val_loss: 0.6237 - val_precision: 0.4286 - val_recall: 1.0000 - learning_rate: 3.0000e-04\n",
      "Epoch 9/20\n",
      "\u001b[1m4/4\u001b[0m \u001b[32m━━━━━━━━━━━━━━━━━━━━\u001b[0m\u001b[37m\u001b[0m \u001b[1m0s\u001b[0m 2s/step - accuracy: 0.7413 - auc: 0.8396 - loss: 0.4873 - precision: 0.4951 - recall: 0.7585\n",
      "Epoch 9: val_accuracy did not improve from 0.68750\n",
      "\u001b[1m4/4\u001b[0m \u001b[32m━━━━━━━━━━━━━━━━━━━━\u001b[0m\u001b[37m\u001b[0m \u001b[1m8s\u001b[0m 2s/step - accuracy: 0.7470 - auc: 0.8432 - loss: 0.4809 - precision: 0.5006 - recall: 0.7711 - val_accuracy: 0.6875 - val_auc: 0.8611 - val_loss: 0.6055 - val_precision: 0.4444 - val_recall: 1.0000 - learning_rate: 1.5000e-04\n",
      "Epoch 10/20\n",
      "\u001b[1m4/4\u001b[0m \u001b[32m━━━━━━━━━━━━━━━━━━━━\u001b[0m\u001b[37m\u001b[0m \u001b[1m0s\u001b[0m 2s/step - accuracy: 0.7513 - auc: 0.8336 - loss: 0.5119 - precision: 0.4979 - recall: 0.8203\n",
      "Epoch 10: val_accuracy did not improve from 0.68750\n",
      "\u001b[1m4/4\u001b[0m \u001b[32m━━━━━━━━━━━━━━━━━━━━\u001b[0m\u001b[37m\u001b[0m \u001b[1m9s\u001b[0m 2s/step - accuracy: 0.7568 - auc: 0.8394 - loss: 0.5015 - precision: 0.5051 - recall: 0.8241 - val_accuracy: 0.6875 - val_auc: 0.8646 - val_loss: 0.5491 - val_precision: 0.4444 - val_recall: 1.0000 - learning_rate: 1.5000e-04\n",
      "Epoch 11/20\n",
      "\u001b[1m4/4\u001b[0m \u001b[32m━━━━━━━━━━━━━━━━━━━━\u001b[0m\u001b[37m\u001b[0m \u001b[1m0s\u001b[0m 2s/step - accuracy: 0.7925 - auc: 0.9032 - loss: 0.3931 - precision: 0.5876 - recall: 0.8119\n",
      "Epoch 11: val_accuracy did not improve from 0.68750\n",
      "\u001b[1m4/4\u001b[0m \u001b[32m━━━━━━━━━━━━━━━━━━━━\u001b[0m\u001b[37m\u001b[0m \u001b[1m9s\u001b[0m 2s/step - accuracy: 0.7880 - auc: 0.8978 - loss: 0.3988 - precision: 0.5749 - recall: 0.8067 - val_accuracy: 0.6875 - val_auc: 0.8588 - val_loss: 0.5217 - val_precision: 0.4444 - val_recall: 1.0000 - learning_rate: 1.5000e-04\n",
      "Epoch 12/20\n",
      "\u001b[1m4/4\u001b[0m \u001b[32m━━━━━━━━━━━━━━━━━━━━\u001b[0m\u001b[37m\u001b[0m \u001b[1m0s\u001b[0m 2s/step - accuracy: 0.8479 - auc: 0.9118 - loss: 0.3769 - precision: 0.6492 - recall: 0.9162\n",
      "Epoch 12: val_accuracy did not improve from 0.68750\n",
      "\u001b[1m4/4\u001b[0m \u001b[32m━━━━━━━━━━━━━━━━━━━━\u001b[0m\u001b[37m\u001b[0m \u001b[1m9s\u001b[0m 2s/step - accuracy: 0.8367 - auc: 0.9039 - loss: 0.3883 - precision: 0.6300 - recall: 0.9008 - val_accuracy: 0.6667 - val_auc: 0.8646 - val_loss: 0.5038 - val_precision: 0.4231 - val_recall: 0.9167 - learning_rate: 1.5000e-04\n",
      "Epoch 13/20\n",
      "\u001b[1m4/4\u001b[0m \u001b[32m━━━━━━━━━━━━━━━━━━━━\u001b[0m\u001b[37m\u001b[0m \u001b[1m0s\u001b[0m 2s/step - accuracy: 0.8164 - auc: 0.8379 - loss: 0.5095 - precision: 0.6158 - recall: 0.7753 \n",
      "Epoch 13: val_accuracy did not improve from 0.68750\n",
      "\u001b[1m4/4\u001b[0m \u001b[32m━━━━━━━━━━━━━━━━━━━━\u001b[0m\u001b[37m\u001b[0m \u001b[1m8s\u001b[0m 2s/step - accuracy: 0.8151 - auc: 0.8447 - loss: 0.4956 - precision: 0.6091 - recall: 0.7845 - val_accuracy: 0.6667 - val_auc: 0.8669 - val_loss: 0.4985 - val_precision: 0.4231 - val_recall: 0.9167 - learning_rate: 1.5000e-04\n",
      "Epoch 14/20\n",
      "\u001b[1m4/4\u001b[0m \u001b[32m━━━━━━━━━━━━━━━━━━━━\u001b[0m\u001b[37m\u001b[0m \u001b[1m0s\u001b[0m 2s/step - accuracy: 0.8481 - auc: 0.9123 - loss: 0.3760 - precision: 0.6551 - recall: 0.8223\n",
      "Epoch 14: val_accuracy did not improve from 0.68750\n",
      "\u001b[1m4/4\u001b[0m \u001b[32m━━━━━━━━━━━━━━━━━━━━\u001b[0m\u001b[37m\u001b[0m \u001b[1m8s\u001b[0m 2s/step - accuracy: 0.8475 - auc: 0.9131 - loss: 0.3753 - precision: 0.6529 - recall: 0.8257 - val_accuracy: 0.6875 - val_auc: 0.8681 - val_loss: 0.4862 - val_precision: 0.4348 - val_recall: 0.8333 - learning_rate: 1.5000e-04\n",
      "Epoch 15/20\n",
      "\u001b[1m4/4\u001b[0m \u001b[32m━━━━━━━━━━━━━━━━━━━━\u001b[0m\u001b[37m\u001b[0m \u001b[1m0s\u001b[0m 2s/step - accuracy: 0.8068 - auc: 0.9011 - loss: 0.3814 - precision: 0.5427 - recall: 0.8688 \n",
      "Epoch 15: val_accuracy did not improve from 0.68750\n",
      "\u001b[1m4/4\u001b[0m \u001b[32m━━━━━━━━━━━━━━━━━━━━\u001b[0m\u001b[37m\u001b[0m \u001b[1m8s\u001b[0m 2s/step - accuracy: 0.8057 - auc: 0.8972 - loss: 0.3879 - precision: 0.5471 - recall: 0.8665 - val_accuracy: 0.6875 - val_auc: 0.8750 - val_loss: 0.4494 - val_precision: 0.4211 - val_recall: 0.6667 - learning_rate: 1.5000e-04\n",
      "Epoch 16/20\n",
      "\u001b[1m4/4\u001b[0m \u001b[32m━━━━━━━━━━━━━━━━━━━━\u001b[0m\u001b[37m\u001b[0m \u001b[1m0s\u001b[0m 2s/step - accuracy: 0.8086 - auc: 0.8814 - loss: 0.4623 - precision: 0.6346 - recall: 0.7917\n",
      "Epoch 16: val_accuracy improved from 0.68750 to 0.70833, saving model to best_mobilenetv2_model.h5\n"
     ]
    },
    {
     "name": "stderr",
     "output_type": "stream",
     "text": [
      "WARNING:absl:You are saving your model as an HDF5 file via `model.save()` or `keras.saving.save_model(model)`. This file format is considered legacy. We recommend using instead the native Keras format, e.g. `model.save('my_model.keras')` or `keras.saving.save_model(model, 'my_model.keras')`. \n"
     ]
    },
    {
     "name": "stdout",
     "output_type": "stream",
     "text": [
      "\u001b[1m4/4\u001b[0m \u001b[32m━━━━━━━━━━━━━━━━━━━━\u001b[0m\u001b[37m\u001b[0m \u001b[1m9s\u001b[0m 3s/step - accuracy: 0.8124 - auc: 0.8848 - loss: 0.4511 - precision: 0.6303 - recall: 0.7977 - val_accuracy: 0.7083 - val_auc: 0.8762 - val_loss: 0.4645 - val_precision: 0.4500 - val_recall: 0.7500 - learning_rate: 1.5000e-04\n",
      "Epoch 17/20\n",
      "\u001b[1m4/4\u001b[0m \u001b[32m━━━━━━━━━━━━━━━━━━━━\u001b[0m\u001b[37m\u001b[0m \u001b[1m0s\u001b[0m 2s/step - accuracy: 0.8077 - auc: 0.8934 - loss: 0.4052 - precision: 0.5536 - recall: 0.9240\n",
      "Epoch 17: val_accuracy did not improve from 0.70833\n",
      "\u001b[1m4/4\u001b[0m \u001b[32m━━━━━━━━━━━━━━━━━━━━\u001b[0m\u001b[37m\u001b[0m \u001b[1m8s\u001b[0m 2s/step - accuracy: 0.8063 - auc: 0.8920 - loss: 0.4073 - precision: 0.5561 - recall: 0.9070 - val_accuracy: 0.7083 - val_auc: 0.8750 - val_loss: 0.4667 - val_precision: 0.4500 - val_recall: 0.7500 - learning_rate: 1.5000e-04\n",
      "Epoch 18/20\n",
      "\u001b[1m4/4\u001b[0m \u001b[32m━━━━━━━━━━━━━━━━━━━━\u001b[0m\u001b[37m\u001b[0m \u001b[1m0s\u001b[0m 2s/step - accuracy: 0.8367 - auc: 0.9004 - loss: 0.3865 - precision: 0.6291 - recall: 0.8592\n",
      "Epoch 18: val_accuracy improved from 0.70833 to 0.72917, saving model to best_mobilenetv2_model.h5\n"
     ]
    },
    {
     "name": "stderr",
     "output_type": "stream",
     "text": [
      "WARNING:absl:You are saving your model as an HDF5 file via `model.save()` or `keras.saving.save_model(model)`. This file format is considered legacy. We recommend using instead the native Keras format, e.g. `model.save('my_model.keras')` or `keras.saving.save_model(model, 'my_model.keras')`. \n"
     ]
    },
    {
     "name": "stdout",
     "output_type": "stream",
     "text": [
      "\n",
      "Epoch 18: ReduceLROnPlateau reducing learning rate to 7.500000356230885e-05.\n",
      "\u001b[1m4/4\u001b[0m \u001b[32m━━━━━━━━━━━━━━━━━━━━\u001b[0m\u001b[37m\u001b[0m \u001b[1m8s\u001b[0m 2s/step - accuracy: 0.8304 - auc: 0.8971 - loss: 0.3933 - precision: 0.6186 - recall: 0.8481 - val_accuracy: 0.7292 - val_auc: 0.8773 - val_loss: 0.4794 - val_precision: 0.4800 - val_recall: 1.0000 - learning_rate: 1.5000e-04\n",
      "Epoch 19/20\n",
      "\u001b[1m4/4\u001b[0m \u001b[32m━━━━━━━━━━━━━━━━━━━━\u001b[0m\u001b[37m\u001b[0m \u001b[1m0s\u001b[0m 2s/step - accuracy: 0.8425 - auc: 0.9224 - loss: 0.3431 - precision: 0.6062 - recall: 0.8405 \n",
      "Epoch 19: val_accuracy did not improve from 0.72917\n",
      "\u001b[1m4/4\u001b[0m \u001b[32m━━━━━━━━━━━━━━━━━━━━\u001b[0m\u001b[37m\u001b[0m \u001b[1m8s\u001b[0m 2s/step - accuracy: 0.8377 - auc: 0.9169 - loss: 0.3559 - precision: 0.6061 - recall: 0.8260 - val_accuracy: 0.7292 - val_auc: 0.8854 - val_loss: 0.4836 - val_precision: 0.4800 - val_recall: 1.0000 - learning_rate: 7.5000e-05\n",
      "Epoch 20/20\n",
      "\u001b[1m4/4\u001b[0m \u001b[32m━━━━━━━━━━━━━━━━━━━━\u001b[0m\u001b[37m\u001b[0m \u001b[1m0s\u001b[0m 2s/step - accuracy: 0.7996 - auc: 0.9186 - loss: 0.3704 - precision: 0.5638 - recall: 0.8901 \n",
      "Epoch 20: val_accuracy did not improve from 0.72917\n",
      "\u001b[1m4/4\u001b[0m \u001b[32m━━━━━━━━━━━━━━━━━━━━\u001b[0m\u001b[37m\u001b[0m \u001b[1m7s\u001b[0m 2s/step - accuracy: 0.7972 - auc: 0.9149 - loss: 0.3757 - precision: 0.5603 - recall: 0.8799 - val_accuracy: 0.7292 - val_auc: 0.8877 - val_loss: 0.4814 - val_precision: 0.4800 - val_recall: 1.0000 - learning_rate: 7.5000e-05\n",
      "Epoch 1/10\n",
      "\u001b[1m4/4\u001b[0m \u001b[32m━━━━━━━━━━━━━━━━━━━━\u001b[0m\u001b[37m\u001b[0m \u001b[1m0s\u001b[0m 6s/step - accuracy: 0.6889 - auc: 0.6250 - loss: 0.7125 - precision: 0.4032 - recall: 0.5380\n",
      "Epoch 1: val_accuracy did not improve from 0.72917\n",
      "\u001b[1m4/4\u001b[0m \u001b[32m━━━━━━━━━━━━━━━━━━━━\u001b[0m\u001b[37m\u001b[0m \u001b[1m68s\u001b[0m 8s/step - accuracy: 0.6839 - auc: 0.6257 - loss: 0.7113 - precision: 0.3956 - recall: 0.5268 - val_accuracy: 0.6875 - val_auc: 0.8704 - val_loss: 0.4580 - val_precision: 0.4211 - val_recall: 0.6667 - learning_rate: 1.0000e-05\n",
      "Epoch 2/10\n",
      "\u001b[1m4/4\u001b[0m \u001b[32m━━━━━━━━━━━━━━━━━━━━\u001b[0m\u001b[37m\u001b[0m \u001b[1m0s\u001b[0m 7s/step - accuracy: 0.7330 - auc: 0.7814 - loss: 0.5678 - precision: 0.4691 - recall: 0.5730\n",
      "Epoch 2: val_accuracy did not improve from 0.72917\n",
      "\u001b[1m4/4\u001b[0m \u001b[32m━━━━━━━━━━━━━━━━━━━━\u001b[0m\u001b[37m\u001b[0m \u001b[1m29s\u001b[0m 7s/step - accuracy: 0.7307 - auc: 0.7796 - loss: 0.5690 - precision: 0.4657 - recall: 0.5763 - val_accuracy: 0.6875 - val_auc: 0.8715 - val_loss: 0.4635 - val_precision: 0.4211 - val_recall: 0.6667 - learning_rate: 1.0000e-05\n",
      "Epoch 3/10\n",
      "\u001b[1m4/4\u001b[0m \u001b[32m━━━━━━━━━━━━━━━━━━━━\u001b[0m\u001b[37m\u001b[0m \u001b[1m0s\u001b[0m 7s/step - accuracy: 0.6846 - auc: 0.7455 - loss: 0.5801 - precision: 0.3857 - recall: 0.5408\n",
      "Epoch 3: val_accuracy did not improve from 0.72917\n",
      "\u001b[1m4/4\u001b[0m \u001b[32m━━━━━━━━━━━━━━━━━━━━\u001b[0m\u001b[37m\u001b[0m \u001b[1m25s\u001b[0m 7s/step - accuracy: 0.6849 - auc: 0.7398 - loss: 0.5882 - precision: 0.3874 - recall: 0.5326 - val_accuracy: 0.7292 - val_auc: 0.8715 - val_loss: 0.4727 - val_precision: 0.4762 - val_recall: 0.8333 - learning_rate: 1.0000e-05\n",
      "Epoch 4/10\n",
      "\u001b[1m4/4\u001b[0m \u001b[32m━━━━━━━━━━━━━━━━━━━━\u001b[0m\u001b[37m\u001b[0m \u001b[1m0s\u001b[0m 7s/step - accuracy: 0.7906 - auc: 0.7736 - loss: 0.5413 - precision: 0.5467 - recall: 0.6295\n",
      "Epoch 4: val_accuracy did not improve from 0.72917\n",
      "\n",
      "Epoch 4: ReduceLROnPlateau reducing learning rate to 4.999999873689376e-06.\n",
      "\u001b[1m4/4\u001b[0m \u001b[32m━━━━━━━━━━━━━━━━━━━━\u001b[0m\u001b[37m\u001b[0m \u001b[1m25s\u001b[0m 7s/step - accuracy: 0.7829 - auc: 0.7739 - loss: 0.5468 - precision: 0.5373 - recall: 0.6357 - val_accuracy: 0.7083 - val_auc: 0.8715 - val_loss: 0.4837 - val_precision: 0.4583 - val_recall: 0.9167 - learning_rate: 1.0000e-05\n",
      "Epoch 5/10\n",
      "\u001b[1m4/4\u001b[0m \u001b[32m━━━━━━━━━━━━━━━━━━━━\u001b[0m\u001b[37m\u001b[0m \u001b[1m0s\u001b[0m 6s/step - accuracy: 0.6973 - auc: 0.7064 - loss: 0.6012 - precision: 0.3930 - recall: 0.5828\n",
      "Epoch 5: val_accuracy did not improve from 0.72917\n",
      "\u001b[1m4/4\u001b[0m \u001b[32m━━━━━━━━━━━━━━━━━━━━\u001b[0m\u001b[37m\u001b[0m \u001b[1m25s\u001b[0m 6s/step - accuracy: 0.6959 - auc: 0.7048 - loss: 0.6063 - precision: 0.3960 - recall: 0.5769 - val_accuracy: 0.7083 - val_auc: 0.8715 - val_loss: 0.4879 - val_precision: 0.4583 - val_recall: 0.9167 - learning_rate: 5.0000e-06\n",
      "Epoch 6/10\n",
      "\u001b[1m4/4\u001b[0m \u001b[32m━━━━━━━━━━━━━━━━━━━━\u001b[0m\u001b[37m\u001b[0m \u001b[1m0s\u001b[0m 6s/step - accuracy: 0.7246 - auc: 0.7926 - loss: 0.5524 - precision: 0.4495 - recall: 0.7280\n",
      "Epoch 6: val_accuracy did not improve from 0.72917\n",
      "\u001b[1m4/4\u001b[0m \u001b[32m━━━━━━━━━━━━━━━━━━━━\u001b[0m\u001b[37m\u001b[0m \u001b[1m25s\u001b[0m 6s/step - accuracy: 0.7142 - auc: 0.7756 - loss: 0.5704 - precision: 0.4392 - recall: 0.7074 - val_accuracy: 0.7083 - val_auc: 0.8727 - val_loss: 0.4912 - val_precision: 0.4583 - val_recall: 0.9167 - learning_rate: 5.0000e-06\n",
      "Epoch 7/10\n",
      "\u001b[1m4/4\u001b[0m \u001b[32m━━━━━━━━━━━━━━━━━━━━\u001b[0m\u001b[37m\u001b[0m \u001b[1m0s\u001b[0m 7s/step - accuracy: 0.7130 - auc: 0.7328 - loss: 0.6338 - precision: 0.4858 - recall: 0.5802\n",
      "Epoch 7: val_accuracy did not improve from 0.72917\n",
      "\n",
      "Epoch 7: ReduceLROnPlateau reducing learning rate to 2.499999936844688e-06.\n",
      "\u001b[1m4/4\u001b[0m \u001b[32m━━━━━━━━━━━━━━━━━━━━\u001b[0m\u001b[37m\u001b[0m \u001b[1m25s\u001b[0m 7s/step - accuracy: 0.7093 - auc: 0.7301 - loss: 0.6298 - precision: 0.4713 - recall: 0.5749 - val_accuracy: 0.6875 - val_auc: 0.8773 - val_loss: 0.4949 - val_precision: 0.4400 - val_recall: 0.9167 - learning_rate: 5.0000e-06\n",
      "Epoch 8/10\n",
      "\u001b[1m4/4\u001b[0m \u001b[32m━━━━━━━━━━━━━━━━━━━━\u001b[0m\u001b[37m\u001b[0m \u001b[1m0s\u001b[0m 7s/step - accuracy: 0.7153 - auc: 0.7623 - loss: 0.5514 - precision: 0.4180 - recall: 0.6768\n",
      "Epoch 8: val_accuracy did not improve from 0.72917\n",
      "\u001b[1m4/4\u001b[0m \u001b[32m━━━━━━━━━━━━━━━━━━━━\u001b[0m\u001b[37m\u001b[0m \u001b[1m25s\u001b[0m 7s/step - accuracy: 0.7138 - auc: 0.7579 - loss: 0.5587 - precision: 0.4219 - recall: 0.6664 - val_accuracy: 0.6875 - val_auc: 0.8762 - val_loss: 0.4961 - val_precision: 0.4400 - val_recall: 0.9167 - learning_rate: 2.5000e-06\n",
      "\u001b[1m1/1\u001b[0m \u001b[32m━━━━━━━━━━━━━━━━━━━━\u001b[0m\u001b[37m\u001b[0m \u001b[1m1s\u001b[0m 978ms/step - accuracy: 0.7400 - auc: 0.9035 - loss: 0.5130 - precision: 0.4800 - recall: 1.0000\n"
     ]
    },
    {
     "name": "stderr",
     "output_type": "stream",
     "text": [
      "WARNING:absl:You are saving your model as an HDF5 file via `model.save()` or `keras.saving.save_model(model)`. This file format is considered legacy. We recommend using instead the native Keras format, e.g. `model.save('my_model.keras')` or `keras.saving.save_model(model, 'my_model.keras')`. \n"
     ]
    },
    {
     "name": "stdout",
     "output_type": "stream",
     "text": [
      "\n",
      "✅ Final Test Accuracy: 74.00%\n",
      "📈 AUC: 0.9035 | 🎯 Precision: 0.4800 | 🔍 Recall: 1.0000\n",
      "✅ Optimized MobileNetV2 training complete!\n"
     ]
    }
   ],
   "source": [
    "import os\n",
    "import numpy as np\n",
    "from tensorflow.keras.preprocessing.image import ImageDataGenerator\n",
    "from tensorflow.keras.models import Model\n",
    "from tensorflow.keras.layers import Dense, Dropout, GlobalAveragePooling2D\n",
    "from tensorflow.keras.applications import MobileNetV2\n",
    "from tensorflow.keras.applications.mobilenet_v2 import preprocess_input\n",
    "from tensorflow.keras.optimizers import Adam\n",
    "from tensorflow.keras.callbacks import EarlyStopping, ModelCheckpoint, ReduceLROnPlateau\n",
    "from tensorflow.keras.metrics import AUC, Precision, Recall\n",
    "from sklearn.utils.class_weight import compute_class_weight\n",
    "\n",
    "# 📁 Paths\n",
    "BASE_DIR = \"C:\\\\Users\\\\MANJU\\\\Desktop\\\\FYP_Moredata\\\\split_data\"\n",
    "TRAIN_DIR = os.path.join(BASE_DIR, \"train\")\n",
    "VAL_DIR = os.path.join(BASE_DIR, \"val\")\n",
    "TEST_DIR = os.path.join(BASE_DIR, \"test\")\n",
    "\n",
    "# 🔢 Parameters\n",
    "IMG_HEIGHT, IMG_WIDTH = 224, 224\n",
    "BATCH_SIZE = 64\n",
    "EPOCHS = 30\n",
    "\n",
    "# 🧪 Data Augmentation\n",
    "train_datagen = ImageDataGenerator(\n",
    "    preprocessing_function=preprocess_input,\n",
    "    rotation_range=45,\n",
    "    width_shift_range=0.1,\n",
    "    height_shift_range=0.1,\n",
    "    zoom_range=0.3,\n",
    "    shear_range=0.3,\n",
    "    brightness_range=[0.6, 1.4],\n",
    "    horizontal_flip=True,\n",
    "    vertical_flip=True,\n",
    "    fill_mode='nearest'\n",
    ")\n",
    "\n",
    "val_test_datagen = ImageDataGenerator(preprocessing_function=preprocess_input)\n",
    "\n",
    "# 📦 Data Loaders\n",
    "train_generator = train_datagen.flow_from_directory(\n",
    "    TRAIN_DIR,\n",
    "    target_size=(IMG_HEIGHT, IMG_WIDTH),\n",
    "    batch_size=BATCH_SIZE,\n",
    "    class_mode='binary'\n",
    ")\n",
    "\n",
    "val_generator = val_test_datagen.flow_from_directory(\n",
    "    VAL_DIR,\n",
    "    target_size=(IMG_HEIGHT, IMG_WIDTH),\n",
    "    batch_size=BATCH_SIZE,\n",
    "    class_mode='binary'\n",
    ")\n",
    "\n",
    "test_generator = val_test_datagen.flow_from_directory(\n",
    "    TEST_DIR,\n",
    "    target_size=(IMG_HEIGHT, IMG_WIDTH),\n",
    "    batch_size=BATCH_SIZE,\n",
    "    class_mode='binary',\n",
    "    shuffle=False\n",
    ")\n",
    "\n",
    "# 📏 Class Weight Calculation\n",
    "class_weights = compute_class_weight(\n",
    "    class_weight='balanced',\n",
    "    classes=np.unique(train_generator.classes),\n",
    "    y=train_generator.classes\n",
    ")\n",
    "class_weights = dict(enumerate(class_weights))\n",
    "\n",
    "# 🧠 Load MobileNetV2 Base\n",
    "base_model = MobileNetV2(weights='imagenet', include_top=False, input_shape=(IMG_HEIGHT, IMG_WIDTH, 3))\n",
    "base_model.trainable = False  # Initially freeze base model\n",
    "\n",
    "# 🏗️ Custom Classifier Head\n",
    "x = base_model.output\n",
    "x = GlobalAveragePooling2D()(x)\n",
    "x = Dense(256, activation='relu')(x)\n",
    "x = Dropout(0.5)(x)\n",
    "x = Dense(64, activation='relu')(x)\n",
    "x = Dropout(0.3)(x)\n",
    "output = Dense(1, activation='sigmoid')(x)\n",
    "\n",
    "model = Model(inputs=base_model.input, outputs=output)\n",
    "\n",
    "# 🧪 Compile Model\n",
    "model.compile(\n",
    "    optimizer=Adam(learning_rate=0.0003),\n",
    "    loss='binary_crossentropy',\n",
    "    metrics=['accuracy', AUC(name='auc'), Precision(name='precision'), Recall(name='recall')]\n",
    ")\n",
    "\n",
    "# 📌 Callbacks\n",
    "checkpoint = ModelCheckpoint(\"best_mobilenetv2_model.h5\", monitor='val_accuracy', save_best_only=True, verbose=1)\n",
    "early_stop = EarlyStopping(monitor='val_loss', patience=7, restore_best_weights=True)\n",
    "lr_scheduler = ReduceLROnPlateau(monitor='val_loss', factor=0.5, patience=3, verbose=1)\n",
    "\n",
    "# 🚀 Phase 1: Train Custom Head\n",
    "history = model.fit(\n",
    "    train_generator,\n",
    "    steps_per_epoch=len(train_generator),\n",
    "    epochs=EPOCHS,\n",
    "    validation_data=val_generator,\n",
    "    validation_steps=len(val_generator),\n",
    "    class_weight=class_weights,\n",
    "    callbacks=[checkpoint, early_stop, lr_scheduler]\n",
    ")\n",
    "\n",
    "# 🔓 Phase 2: Unfreeze and Fine-tune MobileNetV2\n",
    "base_model.trainable = True\n",
    "\n",
    "# Re-compile with lower LR\n",
    "model.compile(\n",
    "    optimizer=Adam(learning_rate=1e-5),\n",
    "    loss='binary_crossentropy',\n",
    "    metrics=['accuracy', AUC(name='auc'), Precision(name='precision'), Recall(name='recall')]\n",
    ")\n",
    "\n",
    "# Fine-tuning Training\n",
    "history_finetune = model.fit(\n",
    "    train_generator,\n",
    "    steps_per_epoch=len(train_generator),\n",
    "    epochs=10,\n",
    "    validation_data=val_generator,\n",
    "    validation_steps=len(val_generator),\n",
    "    class_weight=class_weights,\n",
    "    callbacks=[checkpoint, early_stop, lr_scheduler]\n",
    ")\n",
    "\n",
    "# 🧾 Evaluate Model\n",
    "loss, accuracy, auc, precision, recall = model.evaluate(test_generator, steps=len(test_generator))\n",
    "print(f\"\\n✅ Final Test Accuracy: {accuracy * 100:.2f}%\")\n",
    "print(f\"📈 AUC: {auc:.4f} | 🎯 Precision: {precision:.4f} | 🔍 Recall: {recall:.4f}\")\n",
    "\n",
    "# 💾 Save Final Model\n",
    "model.save(\"final_mobilenetv2_model.h5\")\n",
    "print(\"✅ Optimized MobileNetV2 training complete!\")\n"
   ]
  }
 ],
 "metadata": {
  "kernelspec": {
   "display_name": "Python 3",
   "language": "python",
   "name": "python3"
  },
  "language_info": {
   "codemirror_mode": {
    "name": "ipython",
    "version": 3
   },
   "file_extension": ".py",
   "mimetype": "text/x-python",
   "name": "python",
   "nbconvert_exporter": "python",
   "pygments_lexer": "ipython3",
   "version": "3.11.9"
  }
 },
 "nbformat": 4,
 "nbformat_minor": 2
}
