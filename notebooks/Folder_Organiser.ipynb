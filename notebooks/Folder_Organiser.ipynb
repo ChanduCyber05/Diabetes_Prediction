{
 "cells": [
  {
   "cell_type": "code",
   "execution_count": 1,
   "metadata": {},
   "outputs": [
    {
     "name": "stdout",
     "output_type": "stream",
     "text": [
      "✅ Folder splitting completed successfully.\n"
     ]
    }
   ],
   "source": [
    "import os\n",
    "import shutil\n",
    "import random\n",
    "\n",
    "# Paths\n",
    "BASE_DIR = \"C:/Users/MANJU/Desktop/FYP_Diabetes/data\"\n",
    "SOURCE_DIABETIC = os.path.join(BASE_DIR, \"diabetic_dataset\")\n",
    "SOURCE_NON_DIABETIC = os.path.join(BASE_DIR, \"non_diabetic_dataset\")\n",
    "\n",
    "DEST_DIR = BASE_DIR\n",
    "DEST_TRAIN = os.path.join(DEST_DIR, \"train\")\n",
    "DEST_VAL = os.path.join(DEST_DIR, \"val\")\n",
    "DEST_TEST = os.path.join(DEST_DIR, \"test\")\n",
    "\n",
    "# Create destination directories\n",
    "for category in [\"train\", \"val\", \"test\"]:\n",
    "    for cls in [\"diabetic\", \"non_diabetic\"]:\n",
    "        os.makedirs(os.path.join(DEST_DIR, category, cls), exist_ok=True)\n",
    "\n",
    "# Function to move folders\n",
    "def split_and_move(source_dir, dest_train, dest_val, dest_test, label):\n",
    "    all_folders = os.listdir(source_dir)\n",
    "    random.shuffle(all_folders)\n",
    "    total = len(all_folders)\n",
    "\n",
    "    train_count = int(0.7 * total)\n",
    "    val_count = int(0.15 * total)\n",
    "\n",
    "    for i, folder in enumerate(all_folders):\n",
    "        src = os.path.join(source_dir, folder)\n",
    "\n",
    "        if i < train_count:\n",
    "            dst = os.path.join(dest_train, label, folder)\n",
    "        elif i < train_count + val_count:\n",
    "            dst = os.path.join(dest_val, label, folder)\n",
    "        else:\n",
    "            dst = os.path.join(dest_test, label, folder)\n",
    "\n",
    "        shutil.move(src, dst)\n",
    "\n",
    "# Execute\n",
    "split_and_move(SOURCE_DIABETIC, DEST_TRAIN, DEST_VAL, DEST_TEST, \"diabetic\")\n",
    "split_and_move(SOURCE_NON_DIABETIC, DEST_TRAIN, DEST_VAL, DEST_TEST, \"non_diabetic\")\n",
    "\n",
    "print(\"✅ Folder splitting completed successfully.\")"
   ]
  }
 ],
 "metadata": {
  "kernelspec": {
   "display_name": "Python 3",
   "language": "python",
   "name": "python3"
  },
  "language_info": {
   "codemirror_mode": {
    "name": "ipython",
    "version": 3
   },
   "file_extension": ".py",
   "mimetype": "text/x-python",
   "name": "python",
   "nbconvert_exporter": "python",
   "pygments_lexer": "ipython3",
   "version": "3.11.9"
  }
 },
 "nbformat": 4,
 "nbformat_minor": 2
}
