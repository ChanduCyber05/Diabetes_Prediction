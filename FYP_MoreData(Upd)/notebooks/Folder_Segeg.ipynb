{
 "cells": [
  {
   "cell_type": "code",
   "execution_count": 1,
   "metadata": {},
   "outputs": [
    {
     "name": "stdout",
     "output_type": "stream",
     "text": [
      "✅ Dataset folders successfully split into train, val, and test sets.\n"
     ]
    }
   ],
   "source": [
    "import os\n",
    "import shutil\n",
    "import random\n",
    "\n",
    "# Source directories\n",
    "diabetic_src = r\"C:\\Users\\MANJU\\Desktop\\FYP_MoreData\\data\\diabetic_dataset\"\n",
    "non_diabetic_src = r\"C:\\Users\\MANJU\\Desktop\\FYP_MoreData\\data\\non_diabetic_dataset\"\n",
    "\n",
    "# Destination base directory\n",
    "dest_base = r\"C:\\Users\\MANJU\\Desktop\\FYP_MoreData\\split_data\"\n",
    "\n",
    "# Split ratios\n",
    "train_ratio = 0.7\n",
    "val_ratio = 0.15\n",
    "test_ratio = 0.15\n",
    "\n",
    "# Ensure destination structure exists\n",
    "for split in ['train', 'val', 'test']:\n",
    "    os.makedirs(os.path.join(dest_base, split, 'diabetic'), exist_ok=True)\n",
    "    os.makedirs(os.path.join(dest_base, split, 'non_diabetic'), exist_ok=True)\n",
    "\n",
    "def split_and_copy_folders(source_folder, dest_base, category):\n",
    "    folders = [f for f in os.listdir(source_folder) if os.path.isdir(os.path.join(source_folder, f))]\n",
    "    random.shuffle(folders)\n",
    "\n",
    "    total = len(folders)\n",
    "    train_count = int(total * train_ratio)\n",
    "    val_count = int(total * val_ratio)\n",
    "\n",
    "    for i, folder in enumerate(folders):\n",
    "        src_path = os.path.join(source_folder, folder)\n",
    "\n",
    "        if i < train_count:\n",
    "            split = 'train'\n",
    "        elif i < train_count + val_count:\n",
    "            split = 'val'\n",
    "        else:\n",
    "            split = 'test'\n",
    "\n",
    "        dest_path = os.path.join(dest_base, split, category, folder)\n",
    "        shutil.copytree(src_path, dest_path)\n",
    "\n",
    "# Split diabetic\n",
    "split_and_copy_folders(diabetic_src, dest_base, 'diabetic')\n",
    "\n",
    "# Split non-diabetic\n",
    "split_and_copy_folders(non_diabetic_src, dest_base, 'non_diabetic')\n",
    "\n",
    "print(\"✅ Dataset folders successfully split into train, val, and test sets.\")\n"
   ]
  }
 ],
 "metadata": {
  "kernelspec": {
   "display_name": "Python 3",
   "language": "python",
   "name": "python3"
  },
  "language_info": {
   "codemirror_mode": {
    "name": "ipython",
    "version": 3
   },
   "file_extension": ".py",
   "mimetype": "text/x-python",
   "name": "python",
   "nbconvert_exporter": "python",
   "pygments_lexer": "ipython3",
   "version": "3.11.9"
  }
 },
 "nbformat": 4,
 "nbformat_minor": 2
}
